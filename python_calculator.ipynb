{
 "cells": [
  {
   "cell_type": "code",
   "execution_count": 11,
   "id": "39fc84e4-2b79-4fac-82ca-ab4c4095b297",
   "metadata": {},
   "outputs": [],
   "source": [
    "def calculator(n1, n2, operation):\n",
    "    if operation == 'addition':\n",
    "        result = n1 + n2\n",
    "    elif operation == 'subtraction':\n",
    "        result = n1 - n2\n",
    "    elif operation == 'division':\n",
    "        if n2 != 0:  # Aggiunta della verifica per evitare la divisione per zero\n",
    "            result = n1 / n2\n",
    "        else:\n",
    "            print('Impossibile dividere per zero')\n",
    "            return None\n",
    "    elif operation == 'multiplication':\n",
    "        result = n1 * n2\n",
    "    else:\n",
    "        print('Operazione non valida')\n",
    "        return None\n",
    "\n",
    "    return result"
   ]
  },
  {
   "cell_type": "code",
   "execution_count": 12,
   "id": "6aaa774a-beb2-4b93-acd7-fb26b51c25f6",
   "metadata": {},
   "outputs": [
    {
     "name": "stdin",
     "output_type": "stream",
     "text": [
      "Inserisci un numero:  10\n",
      "Inserisci un numero:  5\n",
      "Seleziona un'operazione: addition, subtraction, division, multiplication:  addition\n"
     ]
    }
   ],
   "source": [
    "n1 = float(input('Inserisci un numero: '))\n",
    "n2 = float(input('Inserisci un numero: '))\n",
    "operation = input('Seleziona un\\'operazione: addition, subtraction, division, multiplication: ')"
   ]
  },
  {
   "cell_type": "code",
   "execution_count": 13,
   "id": "c29062ae-62b6-4529-bb4a-0398ecd7910e",
   "metadata": {},
   "outputs": [
    {
     "name": "stdout",
     "output_type": "stream",
     "text": [
      "Risultato: 15.0\n"
     ]
    }
   ],
   "source": [
    "result = calculator(n1, n2, operation)\n",
    "if result is not None:\n",
    "    print(f\"Risultato: {result}\")"
   ]
  },
  {
   "cell_type": "code",
   "execution_count": 27,
   "id": "ec31199f-1976-4f49-ba39-d05a436c1c35",
   "metadata": {},
   "outputs": [],
   "source": [
    "from tkinter import *\n",
    "from tkinter import ttk\n",
    "\n",
    "def calculate():\n",
    "    n1 = float(entry_n1.get())\n",
    "    n2 = float(entry_n2.get())\n",
    "    selected_operation = operation_var.get()\n",
    "\n",
    "    result = calculator(n1, n2, selected_operation)\n",
    "\n",
    "    if result is not None:\n",
    "        result_label.config(text=f\"Risultato: {result}\")\n",
    "    else:\n",
    "        result_label.config(text=\"Operazione non valida\")\n",
    "\n"
   ]
  },
  {
   "cell_type": "code",
   "execution_count": 33,
   "id": "ed72acc7-d20e-48df-8ec5-eeb886d81057",
   "metadata": {},
   "outputs": [],
   "source": [
    "# Creazione della GUI\n",
    "root = tk.Tk()\n",
    "root.title(\"Calcolatrice\")\n",
    "\n",
    "\n",
    "prova = root.\n",
    "# # Variabili per la GUI\n",
    "# entry_n1 = ttk.Entry(root, width=10)\n",
    "# entry_n2 = ttk.Entry(root, width=10)\n",
    "# operation_var = tk.StringVar()\n",
    "# operation_combobox = ttk.Combobox(root, textvariable=operation_var, values=['addition', 'subtraction', 'division', 'multiplication'])\n",
    "# calculate_button = ttk.Button(root, text=\"Calcola\", command=calculate)\n",
    "# result_label = ttk.Label(root, text=\"Risultato: \")\n",
    "\n",
    "# # Posizionamento degli elementi nella finestra\n",
    "# entry_n1.grid(row=0, column=0, padx=5, pady=5)\n",
    "# entry_n2.grid(row=0, column=1, padx=5, pady=5)\n",
    "# operation_combobox.grid(row=0, column=2, padx=5, pady=5)\n",
    "# calculate_button.grid(row=1, column=0, columnspan=3, pady=5)\n",
    "# result_label.grid(row=2, column=0, columnspan=3, pady=5)\n",
    "\n",
    "# # Esecuzione della finestra\n",
    "# root.mainloop()"
   ]
  },
  {
   "cell_type": "code",
   "execution_count": null,
   "id": "7c4e9ad6-2601-43c0-b5fb-badc36d9abb3",
   "metadata": {},
   "outputs": [],
   "source": []
  }
 ],
 "metadata": {
  "kernelspec": {
   "display_name": "Python 3 (ipykernel)",
   "language": "python",
   "name": "python3"
  },
  "language_info": {
   "codemirror_mode": {
    "name": "ipython",
    "version": 3
   },
   "file_extension": ".py",
   "mimetype": "text/x-python",
   "name": "python",
   "nbconvert_exporter": "python",
   "pygments_lexer": "ipython3",
   "version": "3.10.12"
  }
 },
 "nbformat": 4,
 "nbformat_minor": 5
}
